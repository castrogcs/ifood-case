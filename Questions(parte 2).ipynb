{
 "cells": [
  {
   "cell_type": "code",
   "execution_count": 1,
   "id": "dd6e5399-afaa-4c1b-87b6-c200a6e1e73d",
   "metadata": {},
   "outputs": [],
   "source": [
    "# Importando as bibliotecas necessárias\n",
    "from pyspark.sql import SparkSession\n",
    "\n",
    "# Criando a Spark session\n",
    "spark = SparkSession.builder.appName(\"Resolvendo_Questions_ifood\").getOrCreate()\n",
    "\n",
    "# Caminho do arquivo Parquet de origem\n",
    "caminho_origem = [\"/home/jovyan/work/silver/taxi_roadtrip.parquet\"]\n",
    "\n",
    "# Lendo o arquivo Parquet\n",
    "df = spark.read.parquet(*caminho_origem)\n",
    "\n",
    "# Mostrando as primeiras linhas para verificar o conteúdo\n",
    "#df.show()"
   ]
  },
  {
   "cell_type": "code",
   "execution_count": 2,
   "id": "c44711bf-8e2e-4f13-aad8-784f0ac41fbd",
   "metadata": {},
   "outputs": [],
   "source": [
    "# Registrar o DataFrame como uma tabela temporária para executar consultas SQL, para fácil manipulação/entendimento do usuário. \n",
    "df.createOrReplaceTempView(\"dados\")"
   ]
  },
  {
   "cell_type": "code",
   "execution_count": 3,
   "id": "6060c260-5a16-4c0e-b622-9e53bc8337cb",
   "metadata": {},
   "outputs": [
    {
     "name": "stdout",
     "output_type": "stream",
     "text": [
      "+---------------+\n",
      "|VALOR_media_mes|\n",
      "+---------------+\n",
      "|  75100918.8366|\n",
      "+---------------+\n",
      "\n"
     ]
    }
   ],
   "source": [
    "# Executar uma consulta SQL para filtrar ou manipular os dados\n",
    "qst1_resultado_sql = spark.sql(\"\"\"\n",
    "\n",
    "        SELECT \n",
    "            CAST(AVG(vl_total) AS DECIMAL(18,4)) as VALOR_media_mes \n",
    "        FROM (\n",
    "            SELECT \n",
    "                sum(total_amount) as vl_total, \n",
    "                month(tpep_pickup_datetime) as mes\n",
    "            FROM dados\n",
    "                Where right(left(arquivo_origem,15),1) = 'y' -- filtro para pegar apenas os taxis amarelos.\n",
    "            group by month(tpep_pickup_datetime) \n",
    "        ) A\n",
    "                      \n",
    "\"\"\")\n",
    "\n",
    "qst1_resultado_sql.show()"
   ]
  },
  {
   "cell_type": "code",
   "execution_count": 4,
   "id": "e77159fd-77d6-4bf9-8490-2488fd75df51",
   "metadata": {},
   "outputs": [
    {
     "name": "stdout",
     "output_type": "stream",
     "text": [
      "+---------------------+\n",
      "|PASSAGEIROS_media_dia|\n",
      "+---------------------+\n",
      "|          250973.1345|\n",
      "+---------------------+\n",
      "\n"
     ]
    }
   ],
   "source": [
    "# Executar uma consulta SQL para filtrar ou manipular os dados\n",
    "qst21_resultado_sql = spark.sql(\"\"\"\n",
    "\n",
    "SELECT \n",
    "    CAST(AVG(passageiros) AS DECIMAL(18,4)) as PASSAGEIROS_media_dia \n",
    "from (\n",
    "    SELECT \n",
    "        sum(passenger_count) AS passageiros, \n",
    "        DATE_FORMAT(tpep_pickup_datetime, \"dd/MM/yyyy\") AS dia\n",
    "    FROM dados\n",
    "        WHERE SUBSTRING(arquivo_origem, 15, 1) = 'y' -- filtro para pegar apenas os táxis amarelos\n",
    "    GROUP BY DATE_FORMAT(tpep_pickup_datetime, \"dd/MM/yyyy\")\n",
    ")\n",
    "                      \n",
    "\"\"\")\n",
    "\n",
    "qst21_resultado_sql.show()"
   ]
  },
  {
   "cell_type": "code",
   "execution_count": 5,
   "id": "2e910892-55ac-4839-bb43-1962ab7529b7",
   "metadata": {},
   "outputs": [
    {
     "name": "stdout",
     "output_type": "stream",
     "text": [
      "+----------------------+\n",
      "|PASSAGEIROS_media_hora|\n",
      "+----------------------+\n",
      "|            23073.3366|\n",
      "+----------------------+\n",
      "\n"
     ]
    }
   ],
   "source": [
    "# Executar uma consulta SQL para filtrar ou manipular os dados\n",
    "qst22_resultado_sql = spark.sql(\"\"\"\n",
    "\n",
    "SELECT \n",
    "    CAST(AVG(passageiros) AS DECIMAL(18,4)) as PASSAGEIROS_media_hora \n",
    "from (\n",
    "    SELECT \n",
    "        SUM(passenger_count) AS passageiros,\n",
    "        DATE_FORMAT(tpep_pickup_datetime, \"dd/MM/yyyy\") AS dia,\n",
    "        DATE_FORMAT(tpep_pickup_datetime, \"hh\") AS hora\n",
    "    FROM dados\n",
    "        WHERE SUBSTRING(arquivo_origem, 15, 1) = 'y' -- filtro para pegar apenas os táxis amarelos\n",
    "    GROUP BY \n",
    "        DATE_FORMAT(tpep_pickup_datetime, \"dd/MM/yyyy\"), DATE_FORMAT(tpep_pickup_datetime, \"hh\")\n",
    ")\n",
    "\"\"\")\n",
    "\n",
    "qst22_resultado_sql.show()"
   ]
  },
  {
   "cell_type": "code",
   "execution_count": 6,
   "id": "aa0142dd-307e-4dea-97e3-957d1d7bf45f",
   "metadata": {},
   "outputs": [],
   "source": [
    "# Caminho para gravar os arquivos\n",
    "caminho_qst1 = \"/home/jovyan/work/gold/Question_1.parquet\"\n",
    "caminho_qst21 = \"/home/jovyan/work/gold/Question_2.parquet\"\n",
    "caminho_qst22 = \"/home/jovyan/work/gold/Question_22.parquet\"\n",
    "\n",
    "# Gravando os arquivos \"gold's\"(respostas dos questionamentos) em formato Parquet, em outro local(gold) para conferência.\n",
    "qst1_resultado_sql.write.mode(\"overwrite\").parquet(caminho_qst1)\n",
    "qst21_resultado_sql.write.mode(\"overwrite\").parquet(caminho_qst21)\n",
    "qst22_resultado_sql.write.mode(\"overwrite\").parquet(caminho_qst22)\n",
    "\n",
    "# Parando a Spark session\n",
    "spark.stop()"
   ]
  },
  {
   "cell_type": "code",
   "execution_count": 7,
   "id": "be55503d-23ac-48f8-ab6c-44250f9faf8e",
   "metadata": {},
   "outputs": [
    {
     "name": "stdout",
     "output_type": "stream",
     "text": [
      "['.git', '.ipynb_checkpoints', 'cria_origem.py', 'Dados', 'ETL.py', 'External_Table_Create.sql', 'External_Table_Create_Resumo.sql', 'External_Table_Create_Resumo_1.sql', 'gold', 'ifood_poc', 'output_files', 'parquets_origem', 'poetry.lock', 'pyproject.toml', 'Questions(parte 2).ipynb', 'README.md', 'silver']\n"
     ]
    }
   ],
   "source": [
    "#código de auxilio para busca do caminho lógico do jupyter\n",
    "import os\n",
    "print(os.listdir())"
   ]
  }
 ],
 "metadata": {
  "kernelspec": {
   "display_name": "Python 3 (ipykernel)",
   "language": "python",
   "name": "python3"
  },
  "language_info": {
   "codemirror_mode": {
    "name": "ipython",
    "version": 3
   },
   "file_extension": ".py",
   "mimetype": "text/x-python",
   "name": "python",
   "nbconvert_exporter": "python",
   "pygments_lexer": "ipython3",
   "version": "3.11.6"
  }
 },
 "nbformat": 4,
 "nbformat_minor": 5
}
